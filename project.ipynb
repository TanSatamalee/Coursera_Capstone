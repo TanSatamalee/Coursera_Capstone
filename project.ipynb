{
 "cells": [
  {
   "cell_type": "markdown",
   "metadata": {},
   "source": [
    "# Capstone Project\n",
    "\n",
    "## Introduction\n",
    "\n",
    "Thailand, one of the top 10 countries for tourism, but also one of the most congested countires when it comes to traffic. It was rated as the most congested country in 2016 with drivers spending an average of 64 hours stuck in traffic, of which 33% of that time was spent in traffic during peak hours. Another article, published last year, claimed that the authorities place a lot of trust in the traffic officers to manually handle traffic during peak hours, saying that this was probably the best solution at the time. The article also mentions a solution to automate the traffic more, especially during peak hours, using data that could be collected from the different sections of traffic that occur. This project aims to see if some data can be used to gain insightful knowledge on Bangkok's traffic problem. The dataset will be obtained from the Foursquare API calls which will give venues around the Bangkok area. The goal is to be able to cluster and find patterns the venues in Bangkok and seeing if that relates to any of the congested traffic around that area.\n",
    "\n",
    "\n",
    "## Data\n",
    "\n",
    "As mentioned in the introduction, the dataset will be obtained from Foursquare using the functionality to obtain the venues around the Bangkok area. The requests should return several venues in the city that could be used to cluster and plot on a map d"
   ]
  },
  {
   "cell_type": "code",
   "execution_count": 2,
   "metadata": {},
   "outputs": [],
   "source": [
    "import pandas as pd\n",
    "import numpy as np"
   ]
  },
  {
   "cell_type": "code",
   "execution_count": null,
   "metadata": {},
   "outputs": [],
   "source": []
  },
  {
   "cell_type": "code",
   "execution_count": null,
   "metadata": {},
   "outputs": [],
   "source": []
  }
 ],
 "metadata": {
  "kernelspec": {
   "display_name": "Python 3",
   "language": "python",
   "name": "python3"
  },
  "language_info": {
   "codemirror_mode": {
    "name": "ipython",
    "version": 3
   },
   "file_extension": ".py",
   "mimetype": "text/x-python",
   "name": "python",
   "nbconvert_exporter": "python",
   "pygments_lexer": "ipython3",
   "version": "3.6.4"
  }
 },
 "nbformat": 4,
 "nbformat_minor": 2
}

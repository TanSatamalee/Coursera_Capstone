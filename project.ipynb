{
 "cells": [
  {
   "cell_type": "markdown",
   "metadata": {},
   "source": [
    "# Capstone Project\n",
    "\n",
    "## Introduction\n",
    "\n",
    "In this project, we aim to explore the traffic problems at one of the most popular tourist cities, Bangkok in Thailand. The traffic occurs due to several reasons not limited to poor road strucutres, mismanagement of the mass transport system, increased in tourist population during vacation season, etc. The analysis below aims to use Foursquare's database to find popular attractions in Bangkok and attempt to cluster them to see if the clusters are correlated to traffic population in Bangkok. The k-means clustering method will be used to group venues according to certain featuers and then compared to traffic data in the city to see if any trends occur.\n",
    "\n",
    "## Data\n",
    "The main source of data will be from Foursquare, getting the locations of venues located in the city and the traffic map/data will be from a separate source. The targed API scripts that will be used include finding venues given a particular area, the venue's hours of operations, and maybe list of trending venues."
   ]
  },
  {
   "cell_type": "code",
   "execution_count": 2,
   "metadata": {},
   "outputs": [],
   "source": [
    "import pandas as pd\n",
    "import numpy as np"
   ]
  },
  {
   "cell_type": "code",
   "execution_count": 3,
   "metadata": {},
   "outputs": [
    {
     "name": "stdout",
     "output_type": "stream",
     "text": [
      "Hello Capstone Project Course!\n"
     ]
    }
   ],
   "source": [
    "print(\"Hello Capstone Project Course!\")"
   ]
  },
  {
   "cell_type": "code",
   "execution_count": null,
   "metadata": {},
   "outputs": [],
   "source": []
  }
 ],
 "metadata": {
  "kernelspec": {
   "display_name": "Python 3",
   "language": "python",
   "name": "python3"
  },
  "language_info": {
   "codemirror_mode": {
    "name": "ipython",
    "version": 3
   },
   "file_extension": ".py",
   "mimetype": "text/x-python",
   "name": "python",
   "nbconvert_exporter": "python",
   "pygments_lexer": "ipython3",
   "version": "3.6.4"
  }
 },
 "nbformat": 4,
 "nbformat_minor": 2
}

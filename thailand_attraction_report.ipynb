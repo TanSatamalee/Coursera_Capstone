{
 "cells": [
  {
   "cell_type": "markdown",
   "metadata": {},
   "source": [
    "# Thailand Attractions Analysis\n",
    "\n",
    "This was a capstone project used to introduce the Folium library and how to extract data from an API to use for the IBM Data Science Course.\n",
    "\n",
    "## Introduction\n",
    "\n",
    "Bangkok, Thailand, is probably one of the most well-known tourist spots in the world, but also, according to recent studies on the city's traffic, it also houses one of [the world's most congested roads](https://www.straitstimes.com/asia/se-asia/thailand-has-worlds-most-congested-roads-survey). Several factors influence the congestion that continually worsens in the city including massive use of personal vehicles, road infrastructure in need of improvements, increased tourism and traveling, etc. Solutions have been proposed and put into action to help alleviate the problem including improving and increasing mass transportation systems, improvement in road structures to be able to handle flooding, and enforcement of safe driving to prevent accidents from occuring.\n",
    "\n",
    "This article aims to use [FourSquare's database](https://developer.foursquare.com/) on different businesses that are located in the Bangkok area to analyze how they may play a role in the congestion problem according to their location. The FourSquare API will be used to obtain the locations within the city of Bangkok of all the businesses that are registered with them and cluster them based on their location. The attractions are then categorized to see if there is a pattern within the clusters of why they may be aggregated to one another. Finally, it will be compared to traffic data from [Google Maps](https://www.google.com/maps/place/Bangkok,+Thailand/@13.7306197,100.4941496,12.25z/data=!4m5!3m4!1s0x311d6032280d61f3:0x10100b25de24820!8m2!3d13.7563309!4d100.5017651!5m1!1e1)\n",
    " to see if any patterns can be found between the clusters and the traffic congestions. "
   ]
  },
  {
   "cell_type": "markdown",
   "metadata": {},
   "source": [
    "## Data Collection and Processing\n",
    "\n",
    "Calling the FourSquare API, the raw data of all the different venues within the Bangkok region is obtained using the geocode of Bangkok as the center and the maximum radius. The results, after removing duplicates, returned only 119 unique venues that were popular around the Bangkok area. This will have to be remembered when concluding as this is clearly only a very small sample of businesses in the city. The main part of the raw data that will be used are the latitude and longitude of the venues and the categories that FourSquare places them in.\n",
    "\n",
    "##### An example of a data point from FourSquare:\n",
    "<img src=\"images/img1.PNG\">\n",
    "\n",
    "Cleaning the data, leaves the 119 unique businesses with unique latitude and longitudes while sharing the categories that Foursquare leaves. The cities and other information were omitted as the latitude and longitudes should provide enough information for the location clustering goal of this project. The categories were further condensed into larger bins (i.e. all the food businesses were placed into the 'Food' category.\n"
   ]
  },
  {
   "cell_type": "markdown",
   "metadata": {},
   "source": [
    "## Mapping the Venues\n",
    "\n",
    "Utilizing folium, a Python library, a map was generated of the venues after Clustering them based on their latitude and longitudes. The optimal amount of clusters were determined using the sum of squares metric to measure the spread of each cluster. A graph was conducted using the precalculated variable of inertia in sklearn's clustering method seen below. The elbow signifies when increasing the number of clusters stop making a large impact at reducing spread within the clusters.\n",
    "\n",
    "<img src=\"images/img2.PNG\" width=\"400\" />\n",
    "\n",
    "With our data processed, we move towards visualizing the results. Each cluster was assigned a unique color and the center of each cluster will be black. As expected, several venues are located at the center of Bangkok where the number of roads become more and more dense. Four main clusters are located in that region, and it will be the focus of the comparison with the traffic data.\n",
    "\n",
    "Venue Cluster Map            |  Traffic Map\n",
    ":-------------------------:|:-------------------------:\n",
    "<img src=\"images/img3.PNG\" width=\"400\" />  |  <img src=\"images/img4.PNG\" width=\"400\" />"
   ]
  },
  {
   "cell_type": "markdown",
   "metadata": {},
   "source": [
    "Although the graphs do not provide any patterns that can be seen by just comparing the two. It can be seen that there is a lot of congestion problems within the city that is dealt more towards the center where all the businesses are located. Without a doubt, there are several more factors that could influence the amount of congestion at certain areas and perhaps a more numeric approach might be needed to relate the two features of business density and local congestion.\n",
    "\n",
    "The code analysis that was used for this report can be found [here](https://github.com/TanSatamalee/Coursera_Capstone/blob/master/thailand_attraction_analysis|.ipynb), which is where the maps, graphs, and data are."
   ]
  }
 ],
 "metadata": {
  "kernelspec": {
   "display_name": "Python 3",
   "language": "python",
   "name": "python3"
  },
  "language_info": {
   "codemirror_mode": {
    "name": "ipython",
    "version": 3
   },
   "file_extension": ".py",
   "mimetype": "text/x-python",
   "name": "python",
   "nbconvert_exporter": "python",
   "pygments_lexer": "ipython3",
   "version": "3.6.4"
  }
 },
 "nbformat": 4,
 "nbformat_minor": 2
}
